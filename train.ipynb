{
 "cells": [
  {
   "cell_type": "code",
   "execution_count": 1,
   "metadata": {},
   "outputs": [],
   "source": [
    "import numpy as np # linear algebra\n",
    "import pandas as pd # data processing, CSV file I/O \n",
    "from sklearn.ensemble import GradientBoostingClassifier\n",
    "from sklearn.preprocessing import TargetEncoder, OneHotEncoder, MinMaxScaler\n",
    "from imblearn.pipeline import Pipeline\n",
    "from imblearn.over_sampling import SMOTE\n",
    "import seaborn as sns\n",
    "from matplotlib import pyplot as plt\n",
    "import matplotlib\n",
    "%matplotlib inline"
   ]
  },
  {
   "cell_type": "code",
   "execution_count": 2,
   "metadata": {},
   "outputs": [],
   "source": [
    "X_train = pd.read_csv('X_train.csv')\n",
    "X_test = pd.read_csv('X_test.csv')\n",
    "y_train = pd.read_csv('y_train.csv')\n",
    "y_test = pd.read_csv('y_test.csv')"
   ]
  },
  {
   "cell_type": "code",
   "execution_count": 3,
   "metadata": {},
   "outputs": [],
   "source": [
    "from sklearn.preprocessing import MinMaxScaler, OneHotEncoder, TargetEncoder\n",
    "from sklearn.impute import SimpleImputer\n",
    "from sklearn.compose import ColumnTransformer\n",
    "from sklearn.feature_selection import SelectKBest\n",
    "import xgboost \n",
    "from sklearn.pipeline import Pipeline\n",
    "from sklearn.linear_model import LogisticRegression\n",
    "from sklearn.ensemble import RandomForestClassifier\n",
    "from sklearn.ensemble import GradientBoostingClassifier\n",
    "from sklearn.dummy import DummyClassifier\n",
    "from xgboost import XGBClassifier\n",
    "from sklearn import set_config\n",
    "\n",
    "#class_weight={0:1, 1:12}\n",
    "# Define the encoding strategy for features\n",
    "categorical_features = X_train.select_dtypes(include='object').columns\n",
    "numerical_features = X_train.select_dtypes(exclude=\"object\").columns\n",
    "n_unique_categories = X_train[categorical_features].nunique().sort_values(ascending=False)\n",
    "high_cardinality_features = n_unique_categories[n_unique_categories > 15].index\n",
    "low_cardinality_features = n_unique_categories[n_unique_categories <= 15].index\n",
    "\n",
    "set_config(transform_output=\"pandas\")\n",
    "\n",
    "# Define the preprocessing steps for numeric features\n",
    "numeric_transformer = Pipeline(steps=[\n",
    "    ('imputer', SimpleImputer(strategy='median')),\n",
    "    ('scaler', MinMaxScaler())])\n",
    "\n",
    "# Define the preprocessing steps for categorical features\n",
    "high_categorical_transformer = Pipeline(steps=[\n",
    "    ('imputer', SimpleImputer(strategy='constant', fill_value='missing')),\n",
    "    ('targ', TargetEncoder()),\n",
    "    ('scaler', MinMaxScaler())])\n",
    "\n",
    "# Define the preprocessing steps for categorical features\n",
    "low_categorical_transformer = Pipeline(steps=[\n",
    "    ('imputer', SimpleImputer(strategy='constant', fill_value='missing')),\n",
    "    ('onehot', OneHotEncoder(sparse_output=False, handle_unknown=\"ignore\"))])\n",
    "\n",
    "# Use ColumnTransformer to apply the transformations to the correct columns in the dataframe\n",
    "preprocessor = ColumnTransformer(\n",
    "    transformers=[\n",
    "        ('num', numeric_transformer, numerical_features),\n",
    "        ('high_cat', high_categorical_transformer, high_cardinality_features),\n",
    "        ('low_cat', low_categorical_transformer, low_cardinality_features)])\n"
   ]
  },
  {
   "cell_type": "code",
   "execution_count": 4,
   "metadata": {},
   "outputs": [],
   "source": [
    "from sklearn.preprocessing import MinMaxScaler, OneHotEncoder, TargetEncoder\n",
    "from sklearn.impute import SimpleImputer\n",
    "from sklearn.compose import ColumnTransformer\n",
    "from imblearn.pipeline import Pipeline\n",
    "from imblearn.over_sampling import SMOTE\n",
    "\n",
    "steps7 = [('preprocessor', preprocessor), ('over', SMOTE()), \n",
    "          ('model',  GradientBoostingClassifier(learning_rate= 0.1, n_estimators= 50, random_state=1))]\n",
    "GradientBoosting_tuned = Pipeline(steps=steps7)"
   ]
  },
  {
   "cell_type": "code",
   "execution_count": 5,
   "metadata": {},
   "outputs": [
    {
     "data": {
      "text/plain": [
       "{'NAME_CONTRACT_TYPE': 'Cash loans',\n",
       " 'CODE_GENDER': 'F',\n",
       " 'FLAG_OWN_CAR': 'N',\n",
       " 'FLAG_OWN_REALTY': 'Y',\n",
       " 'CNT_CHILDREN': 0,\n",
       " 'AMT_INCOME_TOTAL': 225000.0,\n",
       " 'AMT_CREDIT': 1042560.0,\n",
       " 'AMT_ANNUITY': 34456.5,\n",
       " 'AMT_GOODS_PRICE': 900000.0,\n",
       " 'NAME_TYPE_SUITE': 'Unaccompanied',\n",
       " 'NAME_INCOME_TYPE': 'Commercial associate',\n",
       " 'NAME_EDUCATION_TYPE': 'Higher education',\n",
       " 'NAME_FAMILY_STATUS': 'Married',\n",
       " 'NAME_HOUSING_TYPE': 'House / apartment',\n",
       " 'REGION_POPULATION_RELATIVE': 0.02461,\n",
       " 'DAYS_BIRTH': -18781,\n",
       " 'DAYS_EMPLOYED': -319.0,\n",
       " 'DAYS_REGISTRATION': -540.0,\n",
       " 'DAYS_ID_PUBLISH': -2316,\n",
       " 'OWN_CAR_AGE': nan,\n",
       " 'FLAG_MOBIL': 1,\n",
       " 'FLAG_EMP_PHONE': 1,\n",
       " 'FLAG_WORK_PHONE': 1,\n",
       " 'FLAG_CONT_MOBILE': 1,\n",
       " 'FLAG_PHONE': 1,\n",
       " 'FLAG_EMAIL': 0,\n",
       " 'OCCUPATION_TYPE': 'Sales staff',\n",
       " 'CNT_FAM_MEMBERS': 2.0,\n",
       " 'REGION_RATING_CLIENT': 2,\n",
       " 'REGION_RATING_CLIENT_W_CITY': 2,\n",
       " 'WEEKDAY_APPR_PROCESS_START': 'THURSDAY',\n",
       " 'HOUR_APPR_PROCESS_START': 11,\n",
       " 'REG_REGION_NOT_LIVE_REGION': 0,\n",
       " 'REG_REGION_NOT_WORK_REGION': 0,\n",
       " 'LIVE_REGION_NOT_WORK_REGION': 0,\n",
       " 'REG_CITY_NOT_LIVE_CITY': 0,\n",
       " 'REG_CITY_NOT_WORK_CITY': 0,\n",
       " 'LIVE_CITY_NOT_WORK_CITY': 0,\n",
       " 'ORGANIZATION_TYPE': 'Business Entity Type 3',\n",
       " 'EXT_SOURCE_1': 0.7894812110292743,\n",
       " 'EXT_SOURCE_2': 0.6938830478391572,\n",
       " 'EXT_SOURCE_3': 0.7789040389824382,\n",
       " 'APARTMENTS_AVG': 0.3227,\n",
       " 'BASEMENTAREA_AVG': 0.1764,\n",
       " 'YEARS_BEGINEXPLUATATION_AVG': 0.9901,\n",
       " 'YEARS_BUILD_AVG': nan,\n",
       " 'COMMONAREA_AVG': nan,\n",
       " 'ELEVATORS_AVG': 0.32,\n",
       " 'ENTRANCES_AVG': 0.2759,\n",
       " 'FLOORSMAX_AVG': 0.375,\n",
       " 'FLOORSMIN_AVG': nan,\n",
       " 'LANDAREA_AVG': 0.2571,\n",
       " 'LIVINGAPARTMENTS_AVG': nan,\n",
       " 'LIVINGAREA_AVG': 0.3861,\n",
       " 'NONLIVINGAPARTMENTS_AVG': nan,\n",
       " 'NONLIVINGAREA_AVG': 0.0,\n",
       " 'APARTMENTS_MODE': 0.3288,\n",
       " 'BASEMENTAREA_MODE': 0.183,\n",
       " 'YEARS_BEGINEXPLUATATION_MODE': 0.9901,\n",
       " 'YEARS_BUILD_MODE': nan,\n",
       " 'COMMONAREA_MODE': nan,\n",
       " 'ELEVATORS_MODE': 0.3222,\n",
       " 'ENTRANCES_MODE': 0.2759,\n",
       " 'FLOORSMAX_MODE': 0.375,\n",
       " 'FLOORSMIN_MODE': nan,\n",
       " 'LANDAREA_MODE': 0.263,\n",
       " 'LIVINGAPARTMENTS_MODE': nan,\n",
       " 'LIVINGAREA_MODE': 0.4023,\n",
       " 'NONLIVINGAPARTMENTS_MODE': nan,\n",
       " 'NONLIVINGAREA_MODE': 0.0,\n",
       " 'APARTMENTS_MEDI': 0.3258,\n",
       " 'BASEMENTAREA_MEDI': 0.1764,\n",
       " 'YEARS_BEGINEXPLUATATION_MEDI': 0.9901,\n",
       " 'YEARS_BUILD_MEDI': nan,\n",
       " 'COMMONAREA_MEDI': nan,\n",
       " 'ELEVATORS_MEDI': 0.32,\n",
       " 'ENTRANCES_MEDI': 0.2759,\n",
       " 'FLOORSMAX_MEDI': 0.375,\n",
       " 'FLOORSMIN_MEDI': nan,\n",
       " 'LANDAREA_MEDI': 0.2616,\n",
       " 'LIVINGAPARTMENTS_MEDI': nan,\n",
       " 'LIVINGAREA_MEDI': 0.393,\n",
       " 'NONLIVINGAPARTMENTS_MEDI': nan,\n",
       " 'NONLIVINGAREA_MEDI': 0.0,\n",
       " 'FONDKAPREMONT_MODE': nan,\n",
       " 'HOUSETYPE_MODE': 'block of flats',\n",
       " 'TOTALAREA_MODE': 0.3612,\n",
       " 'WALLSMATERIAL_MODE': 'Panel',\n",
       " 'EMERGENCYSTATE_MODE': 'No',\n",
       " 'OBS_30_CNT_SOCIAL_CIRCLE': 2.0,\n",
       " 'DEF_30_CNT_SOCIAL_CIRCLE': 2.0,\n",
       " 'OBS_60_CNT_SOCIAL_CIRCLE': 2.0,\n",
       " 'DEF_60_CNT_SOCIAL_CIRCLE': 2.0,\n",
       " 'DAYS_LAST_PHONE_CHANGE': -692.0,\n",
       " 'FLAG_DOCUMENT_2': 0,\n",
       " 'FLAG_DOCUMENT_3': 1,\n",
       " 'FLAG_DOCUMENT_4': 0,\n",
       " 'FLAG_DOCUMENT_5': 0,\n",
       " 'FLAG_DOCUMENT_6': 0,\n",
       " 'FLAG_DOCUMENT_7': 0,\n",
       " 'FLAG_DOCUMENT_8': 0,\n",
       " 'FLAG_DOCUMENT_9': 0,\n",
       " 'FLAG_DOCUMENT_10': 0,\n",
       " 'FLAG_DOCUMENT_11': 0,\n",
       " 'FLAG_DOCUMENT_12': 0,\n",
       " 'FLAG_DOCUMENT_13': 0,\n",
       " 'FLAG_DOCUMENT_14': 0,\n",
       " 'FLAG_DOCUMENT_15': 0,\n",
       " 'FLAG_DOCUMENT_16': 0,\n",
       " 'FLAG_DOCUMENT_17': 0,\n",
       " 'FLAG_DOCUMENT_18': 0,\n",
       " 'FLAG_DOCUMENT_19': 0,\n",
       " 'FLAG_DOCUMENT_20': 0,\n",
       " 'FLAG_DOCUMENT_21': 0,\n",
       " 'AMT_REQ_CREDIT_BUREAU_HOUR': 0.0,\n",
       " 'AMT_REQ_CREDIT_BUREAU_DAY': 0.0,\n",
       " 'AMT_REQ_CREDIT_BUREAU_WEEK': 0.0,\n",
       " 'AMT_REQ_CREDIT_BUREAU_MON': 1.0,\n",
       " 'AMT_REQ_CREDIT_BUREAU_QRT': 0.0,\n",
       " 'AMT_REQ_CREDIT_BUREAU_YEAR': 1.0,\n",
       " 'DAYS_EMPLOYED_ANOM': 0,\n",
       " 'CREDIT_INCOME_PERCENT': 4.6336,\n",
       " 'ANNUITY_INCOME_PERCENT': 0.15314,\n",
       " 'CREDIT_TERM': 0.0330498964088397,\n",
       " 'DAYS_EMPLOYED_PERCENT': 0.0169852510515946}"
      ]
     },
     "execution_count": 5,
     "metadata": {},
     "output_type": "execute_result"
    }
   ],
   "source": [
    "test = X_test.iloc[0]\n",
    "test = test.to_dict()\n",
    "#df = pd.DataFrame([test])\n",
    "#df"
   ]
  },
  {
   "cell_type": "code",
   "execution_count": 6,
   "metadata": {},
   "outputs": [],
   "source": [
    "from sklearn.preprocessing import MinMaxScaler, OneHotEncoder, TargetEncoder\n",
    "from sklearn.impute import SimpleImputer\n",
    "from sklearn.compose import ColumnTransformer\n",
    "from imblearn.pipeline import Pipeline\n",
    "from imblearn.over_sampling import SMOTE\n",
    "\n",
    "def predict_bank(X, model):\n",
    "    \n",
    "    if type(X) == dict:\n",
    "        df = pd.DataFrame([X])\n",
    "    else:\n",
    "        df = pd.DataFrame(X).T\n",
    "    \n",
    "    model.fit(X_train, y_train)\n",
    "    y_proba = model.predict_proba(df)[:, 1]\n",
    "    y_pred = (y_proba > 0.25).astype(\"int\")\n",
    "    \n",
    "    if y_pred == 0:\n",
    "        print('Client solvable :', \"la probabilité de faillite est de\",y_proba*100, \"%\")\n",
    "    elif y_pred == 1:\n",
    "        print('Client à risque :', \"la probabilité de faillite est de\",y_proba*100, \"%\")\n",
    "    \n",
    "    return y_pred"
   ]
  },
  {
   "cell_type": "code",
   "execution_count": 7,
   "metadata": {},
   "outputs": [
    {
     "name": "stderr",
     "output_type": "stream",
     "text": [
      "c:\\Users\\camil\\Documents\\Projet7\\env\\Lib\\site-packages\\sklearn\\preprocessing\\_label.py:114: DataConversionWarning: A column-vector y was passed when a 1d array was expected. Please change the shape of y to (n_samples, ), for example using ravel().\n",
      "  y = column_or_1d(y, warn=True)\n",
      "c:\\Users\\camil\\Documents\\Projet7\\env\\Lib\\site-packages\\sklearn\\ensemble\\_gb.py:424: DataConversionWarning: A column-vector y was passed when a 1d array was expected. Please change the shape of y to (n_samples, ), for example using ravel().\n",
      "  y = column_or_1d(y, warn=True)\n"
     ]
    },
    {
     "name": "stdout",
     "output_type": "stream",
     "text": [
      "Client solvable : la probabilité de faillite est de [12.78110868] %\n"
     ]
    },
    {
     "data": {
      "text/plain": [
       "array([0])"
      ]
     },
     "execution_count": 7,
     "metadata": {},
     "output_type": "execute_result"
    }
   ],
   "source": [
    "predict_bank(test, GradientBoosting_tuned)"
   ]
  },
  {
   "cell_type": "markdown",
   "metadata": {},
   "source": [
    "###  Create Model File"
   ]
  },
  {
   "cell_type": "code",
   "execution_count": 8,
   "metadata": {},
   "outputs": [],
   "source": [
    "import pickle\n",
    "\n",
    "# Save to file in the current working directory\n",
    "pkl_filename = \"model.pkl\"\n",
    "with open(pkl_filename, 'wb') as file:\n",
    "    pickle.dump(GradientBoosting_tuned, file)\n",
    "\n",
    "# Load from file\n",
    "with open(pkl_filename, 'rb') as file:\n",
    "    pickle_model = pickle.load(file)"
   ]
  },
  {
   "cell_type": "code",
   "execution_count": 9,
   "metadata": {},
   "outputs": [
    {
     "name": "stderr",
     "output_type": "stream",
     "text": [
      "c:\\Users\\camil\\Documents\\Projet7\\env\\Lib\\site-packages\\sklearn\\preprocessing\\_label.py:114: DataConversionWarning: A column-vector y was passed when a 1d array was expected. Please change the shape of y to (n_samples, ), for example using ravel().\n",
      "  y = column_or_1d(y, warn=True)\n",
      "c:\\Users\\camil\\Documents\\Projet7\\env\\Lib\\site-packages\\sklearn\\ensemble\\_gb.py:424: DataConversionWarning: A column-vector y was passed when a 1d array was expected. Please change the shape of y to (n_samples, ), for example using ravel().\n",
      "  y = column_or_1d(y, warn=True)\n"
     ]
    },
    {
     "name": "stdout",
     "output_type": "stream",
     "text": [
      "Client solvable : la probabilité de faillite est de [9.16796615] %\n"
     ]
    },
    {
     "data": {
      "text/plain": [
       "array([0])"
      ]
     },
     "execution_count": 9,
     "metadata": {},
     "output_type": "execute_result"
    }
   ],
   "source": [
    "##loading the model from the saved file\n",
    "pkl_filename = \"model.pkl\"\n",
    "with open(pkl_filename, 'rb') as f_in:\n",
    "    model = pickle.load(f_in)\n",
    "\n",
    "predictValue = predict_bank(test, model)\n",
    "predictValue"
   ]
  }
 ],
 "metadata": {
  "kernelspec": {
   "display_name": "env",
   "language": "python",
   "name": "python3"
  },
  "language_info": {
   "codemirror_mode": {
    "name": "ipython",
    "version": 3
   },
   "file_extension": ".py",
   "mimetype": "text/x-python",
   "name": "python",
   "nbconvert_exporter": "python",
   "pygments_lexer": "ipython3",
   "version": "3.11.4"
  }
 },
 "nbformat": 4,
 "nbformat_minor": 2
}
